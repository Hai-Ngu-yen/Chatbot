{
  "nbformat": 4,
  "nbformat_minor": 0,
  "metadata": {
    "colab": {
      "name": "Chatbot Bleu score & Word2Vec.ipynb",
      "provenance": [],
      "collapsed_sections": []
    },
    "kernelspec": {
      "name": "python3",
      "display_name": "Python 3"
    },
    "language_info": {
      "name": "python"
    }
  },
  "cells": [
    {
      "cell_type": "code",
      "execution_count": 142,
      "metadata": {
        "colab": {
          "base_uri": "https://localhost:8080/"
        },
        "id": "Snx_vP_MnLFU",
        "outputId": "52dad8a9-58b4-4705-86f8-24f58426ccd2"
      },
      "outputs": [
        {
          "output_type": "stream",
          "name": "stdout",
          "text": [
            "Drive already mounted at /content/drive; to attempt to forcibly remount, call drive.mount(\"/content/drive\", force_remount=True).\n"
          ]
        }
      ],
      "source": [
        "#Liên kết với google drive\n",
        "from google.colab import drive\n",
        "drive.mount('/content/drive')"
      ]
    },
    {
      "cell_type": "code",
      "source": [
        "#Thêm vào các thư viện cần thiết\n",
        "import pandas as pd\n",
        "import os\n",
        "from nltk.translate.bleu_score import sentence_bleu\n",
        "import warnings\n",
        "import gensim\n",
        "from scipy.spatial import distance\n",
        "import numpy as np"
      ],
      "metadata": {
        "id": "bS9uWP6Rn7xu"
      },
      "execution_count": 161,
      "outputs": []
    },
    {
      "cell_type": "code",
      "source": [
        "#Đường dẫn\n",
        "os.getcwd()\n",
        "os.chdir('/content/drive/My Drive/Data/Final/')"
      ],
      "metadata": {
        "id": "geSd-lHvmXL6"
      },
      "execution_count": 144,
      "outputs": []
    },
    {
      "cell_type": "code",
      "source": [
        "#Đọc file\n",
        "df1 = pd.read_csv('chatbot data.csv')\n",
        "print(df1.shape)\n",
        "df1.head()"
      ],
      "metadata": {
        "colab": {
          "base_uri": "https://localhost:8080/",
          "height": 223
        },
        "id": "-Hbi8UEOny8m",
        "outputId": "fdc0a6b0-9475-40c4-bea7-6c860e409756"
      },
      "execution_count": 145,
      "outputs": [
        {
          "output_type": "stream",
          "name": "stdout",
          "text": [
            "(1480, 3)\n"
          ]
        },
        {
          "output_type": "execute_result",
          "data": {
            "text/plain": [
              "   Unnamed: 0                                             user_a  \\\n",
              "0           0                                        bạn tên gì?   \n",
              "1           1                   Tui tên Nam <eos> Bạn học ở đâu?   \n",
              "2           2         tui học ở TDTU luôn <eos> Bạn học ngành gì   \n",
              "3           3                          Chuyên ngành gì vậy bạn ?   \n",
              "4           4  mình học Quản Trị Kinh Doanh <eos> Bạn là ngườ...   \n",
              "\n",
              "                                              user_b  \n",
              "0             Mình tên Trường <eos> còn bạn tên gì?   \n",
              "1  tui học ở TDTU nè <eos> còn bạn học ở trường n...  \n",
              "2                       mình học Công Nghệ Thông Tin  \n",
              "3  mình học bên Kỹ Thuật Phần Mềm á <eos> còn bạn...  \n",
              "4  Mình là người Đồng tháp <eos> bạn biết Đồng Th...  "
            ],
            "text/html": [
              "\n",
              "  <div id=\"df-684c0161-a696-4514-b41b-b50ccf5e26d8\">\n",
              "    <div class=\"colab-df-container\">\n",
              "      <div>\n",
              "<style scoped>\n",
              "    .dataframe tbody tr th:only-of-type {\n",
              "        vertical-align: middle;\n",
              "    }\n",
              "\n",
              "    .dataframe tbody tr th {\n",
              "        vertical-align: top;\n",
              "    }\n",
              "\n",
              "    .dataframe thead th {\n",
              "        text-align: right;\n",
              "    }\n",
              "</style>\n",
              "<table border=\"1\" class=\"dataframe\">\n",
              "  <thead>\n",
              "    <tr style=\"text-align: right;\">\n",
              "      <th></th>\n",
              "      <th>Unnamed: 0</th>\n",
              "      <th>user_a</th>\n",
              "      <th>user_b</th>\n",
              "    </tr>\n",
              "  </thead>\n",
              "  <tbody>\n",
              "    <tr>\n",
              "      <th>0</th>\n",
              "      <td>0</td>\n",
              "      <td>bạn tên gì?</td>\n",
              "      <td>Mình tên Trường &lt;eos&gt; còn bạn tên gì?</td>\n",
              "    </tr>\n",
              "    <tr>\n",
              "      <th>1</th>\n",
              "      <td>1</td>\n",
              "      <td>Tui tên Nam &lt;eos&gt; Bạn học ở đâu?</td>\n",
              "      <td>tui học ở TDTU nè &lt;eos&gt; còn bạn học ở trường n...</td>\n",
              "    </tr>\n",
              "    <tr>\n",
              "      <th>2</th>\n",
              "      <td>2</td>\n",
              "      <td>tui học ở TDTU luôn &lt;eos&gt; Bạn học ngành gì</td>\n",
              "      <td>mình học Công Nghệ Thông Tin</td>\n",
              "    </tr>\n",
              "    <tr>\n",
              "      <th>3</th>\n",
              "      <td>3</td>\n",
              "      <td>Chuyên ngành gì vậy bạn ?</td>\n",
              "      <td>mình học bên Kỹ Thuật Phần Mềm á &lt;eos&gt; còn bạn...</td>\n",
              "    </tr>\n",
              "    <tr>\n",
              "      <th>4</th>\n",
              "      <td>4</td>\n",
              "      <td>mình học Quản Trị Kinh Doanh &lt;eos&gt; Bạn là ngườ...</td>\n",
              "      <td>Mình là người Đồng tháp &lt;eos&gt; bạn biết Đồng Th...</td>\n",
              "    </tr>\n",
              "  </tbody>\n",
              "</table>\n",
              "</div>\n",
              "      <button class=\"colab-df-convert\" onclick=\"convertToInteractive('df-684c0161-a696-4514-b41b-b50ccf5e26d8')\"\n",
              "              title=\"Convert this dataframe to an interactive table.\"\n",
              "              style=\"display:none;\">\n",
              "        \n",
              "  <svg xmlns=\"http://www.w3.org/2000/svg\" height=\"24px\"viewBox=\"0 0 24 24\"\n",
              "       width=\"24px\">\n",
              "    <path d=\"M0 0h24v24H0V0z\" fill=\"none\"/>\n",
              "    <path d=\"M18.56 5.44l.94 2.06.94-2.06 2.06-.94-2.06-.94-.94-2.06-.94 2.06-2.06.94zm-11 1L8.5 8.5l.94-2.06 2.06-.94-2.06-.94L8.5 2.5l-.94 2.06-2.06.94zm10 10l.94 2.06.94-2.06 2.06-.94-2.06-.94-.94-2.06-.94 2.06-2.06.94z\"/><path d=\"M17.41 7.96l-1.37-1.37c-.4-.4-.92-.59-1.43-.59-.52 0-1.04.2-1.43.59L10.3 9.45l-7.72 7.72c-.78.78-.78 2.05 0 2.83L4 21.41c.39.39.9.59 1.41.59.51 0 1.02-.2 1.41-.59l7.78-7.78 2.81-2.81c.8-.78.8-2.07 0-2.86zM5.41 20L4 18.59l7.72-7.72 1.47 1.35L5.41 20z\"/>\n",
              "  </svg>\n",
              "      </button>\n",
              "      \n",
              "  <style>\n",
              "    .colab-df-container {\n",
              "      display:flex;\n",
              "      flex-wrap:wrap;\n",
              "      gap: 12px;\n",
              "    }\n",
              "\n",
              "    .colab-df-convert {\n",
              "      background-color: #E8F0FE;\n",
              "      border: none;\n",
              "      border-radius: 50%;\n",
              "      cursor: pointer;\n",
              "      display: none;\n",
              "      fill: #1967D2;\n",
              "      height: 32px;\n",
              "      padding: 0 0 0 0;\n",
              "      width: 32px;\n",
              "    }\n",
              "\n",
              "    .colab-df-convert:hover {\n",
              "      background-color: #E2EBFA;\n",
              "      box-shadow: 0px 1px 2px rgba(60, 64, 67, 0.3), 0px 1px 3px 1px rgba(60, 64, 67, 0.15);\n",
              "      fill: #174EA6;\n",
              "    }\n",
              "\n",
              "    [theme=dark] .colab-df-convert {\n",
              "      background-color: #3B4455;\n",
              "      fill: #D2E3FC;\n",
              "    }\n",
              "\n",
              "    [theme=dark] .colab-df-convert:hover {\n",
              "      background-color: #434B5C;\n",
              "      box-shadow: 0px 1px 3px 1px rgba(0, 0, 0, 0.15);\n",
              "      filter: drop-shadow(0px 1px 2px rgba(0, 0, 0, 0.3));\n",
              "      fill: #FFFFFF;\n",
              "    }\n",
              "  </style>\n",
              "\n",
              "      <script>\n",
              "        const buttonEl =\n",
              "          document.querySelector('#df-684c0161-a696-4514-b41b-b50ccf5e26d8 button.colab-df-convert');\n",
              "        buttonEl.style.display =\n",
              "          google.colab.kernel.accessAllowed ? 'block' : 'none';\n",
              "\n",
              "        async function convertToInteractive(key) {\n",
              "          const element = document.querySelector('#df-684c0161-a696-4514-b41b-b50ccf5e26d8');\n",
              "          const dataTable =\n",
              "            await google.colab.kernel.invokeFunction('convertToInteractive',\n",
              "                                                     [key], {});\n",
              "          if (!dataTable) return;\n",
              "\n",
              "          const docLinkHtml = 'Like what you see? Visit the ' +\n",
              "            '<a target=\"_blank\" href=https://colab.research.google.com/notebooks/data_table.ipynb>data table notebook</a>'\n",
              "            + ' to learn more about interactive tables.';\n",
              "          element.innerHTML = '';\n",
              "          dataTable['output_type'] = 'display_data';\n",
              "          await google.colab.output.renderOutput(dataTable, element);\n",
              "          const docLink = document.createElement('div');\n",
              "          docLink.innerHTML = docLinkHtml;\n",
              "          element.appendChild(docLink);\n",
              "        }\n",
              "      </script>\n",
              "    </div>\n",
              "  </div>\n",
              "  "
            ]
          },
          "metadata": {},
          "execution_count": 145
        }
      ]
    },
    {
      "cell_type": "code",
      "source": [
        "df2 = pd.read_csv('dữ liệu chatbot question-answer short style.csv')\n",
        "print(df2.shape)\n",
        "df2.head()"
      ],
      "metadata": {
        "colab": {
          "base_uri": "https://localhost:8080/",
          "height": 223
        },
        "id": "5Vu0VJRemVCs",
        "outputId": "8eafe8ab-ecff-431b-db2f-22450e5b25e7"
      },
      "execution_count": 146,
      "outputs": [
        {
          "output_type": "stream",
          "name": "stdout",
          "text": [
            "(5900, 3)\n"
          ]
        },
        {
          "output_type": "execute_result",
          "data": {
            "text/plain": [
              "   Unnamed: 0                             user_a  \\\n",
              "0           0                Thích mẫu người nào   \n",
              "1           1                  Có crush ai không   \n",
              "2           2           Tại sao lại thích bạn dó   \n",
              "3           3            Có hay nói chuyện không   \n",
              "4           4  Bạn kia có bắt chuyện trước không   \n",
              "\n",
              "                             user_b  \n",
              "0      Dễ thương, tóc dài, da trắng  \n",
              "1                 Có 1 bạn cùng lớp  \n",
              "2  Vì đáp ứng những yêu cầu của tao  \n",
              "3            Hay nhắn tin messenger  \n",
              "4                        Có đôi khi  "
            ],
            "text/html": [
              "\n",
              "  <div id=\"df-422ce5b7-4b84-4839-b4f5-8dc13b823f9f\">\n",
              "    <div class=\"colab-df-container\">\n",
              "      <div>\n",
              "<style scoped>\n",
              "    .dataframe tbody tr th:only-of-type {\n",
              "        vertical-align: middle;\n",
              "    }\n",
              "\n",
              "    .dataframe tbody tr th {\n",
              "        vertical-align: top;\n",
              "    }\n",
              "\n",
              "    .dataframe thead th {\n",
              "        text-align: right;\n",
              "    }\n",
              "</style>\n",
              "<table border=\"1\" class=\"dataframe\">\n",
              "  <thead>\n",
              "    <tr style=\"text-align: right;\">\n",
              "      <th></th>\n",
              "      <th>Unnamed: 0</th>\n",
              "      <th>user_a</th>\n",
              "      <th>user_b</th>\n",
              "    </tr>\n",
              "  </thead>\n",
              "  <tbody>\n",
              "    <tr>\n",
              "      <th>0</th>\n",
              "      <td>0</td>\n",
              "      <td>Thích mẫu người nào</td>\n",
              "      <td>Dễ thương, tóc dài, da trắng</td>\n",
              "    </tr>\n",
              "    <tr>\n",
              "      <th>1</th>\n",
              "      <td>1</td>\n",
              "      <td>Có crush ai không</td>\n",
              "      <td>Có 1 bạn cùng lớp</td>\n",
              "    </tr>\n",
              "    <tr>\n",
              "      <th>2</th>\n",
              "      <td>2</td>\n",
              "      <td>Tại sao lại thích bạn dó</td>\n",
              "      <td>Vì đáp ứng những yêu cầu của tao</td>\n",
              "    </tr>\n",
              "    <tr>\n",
              "      <th>3</th>\n",
              "      <td>3</td>\n",
              "      <td>Có hay nói chuyện không</td>\n",
              "      <td>Hay nhắn tin messenger</td>\n",
              "    </tr>\n",
              "    <tr>\n",
              "      <th>4</th>\n",
              "      <td>4</td>\n",
              "      <td>Bạn kia có bắt chuyện trước không</td>\n",
              "      <td>Có đôi khi</td>\n",
              "    </tr>\n",
              "  </tbody>\n",
              "</table>\n",
              "</div>\n",
              "      <button class=\"colab-df-convert\" onclick=\"convertToInteractive('df-422ce5b7-4b84-4839-b4f5-8dc13b823f9f')\"\n",
              "              title=\"Convert this dataframe to an interactive table.\"\n",
              "              style=\"display:none;\">\n",
              "        \n",
              "  <svg xmlns=\"http://www.w3.org/2000/svg\" height=\"24px\"viewBox=\"0 0 24 24\"\n",
              "       width=\"24px\">\n",
              "    <path d=\"M0 0h24v24H0V0z\" fill=\"none\"/>\n",
              "    <path d=\"M18.56 5.44l.94 2.06.94-2.06 2.06-.94-2.06-.94-.94-2.06-.94 2.06-2.06.94zm-11 1L8.5 8.5l.94-2.06 2.06-.94-2.06-.94L8.5 2.5l-.94 2.06-2.06.94zm10 10l.94 2.06.94-2.06 2.06-.94-2.06-.94-.94-2.06-.94 2.06-2.06.94z\"/><path d=\"M17.41 7.96l-1.37-1.37c-.4-.4-.92-.59-1.43-.59-.52 0-1.04.2-1.43.59L10.3 9.45l-7.72 7.72c-.78.78-.78 2.05 0 2.83L4 21.41c.39.39.9.59 1.41.59.51 0 1.02-.2 1.41-.59l7.78-7.78 2.81-2.81c.8-.78.8-2.07 0-2.86zM5.41 20L4 18.59l7.72-7.72 1.47 1.35L5.41 20z\"/>\n",
              "  </svg>\n",
              "      </button>\n",
              "      \n",
              "  <style>\n",
              "    .colab-df-container {\n",
              "      display:flex;\n",
              "      flex-wrap:wrap;\n",
              "      gap: 12px;\n",
              "    }\n",
              "\n",
              "    .colab-df-convert {\n",
              "      background-color: #E8F0FE;\n",
              "      border: none;\n",
              "      border-radius: 50%;\n",
              "      cursor: pointer;\n",
              "      display: none;\n",
              "      fill: #1967D2;\n",
              "      height: 32px;\n",
              "      padding: 0 0 0 0;\n",
              "      width: 32px;\n",
              "    }\n",
              "\n",
              "    .colab-df-convert:hover {\n",
              "      background-color: #E2EBFA;\n",
              "      box-shadow: 0px 1px 2px rgba(60, 64, 67, 0.3), 0px 1px 3px 1px rgba(60, 64, 67, 0.15);\n",
              "      fill: #174EA6;\n",
              "    }\n",
              "\n",
              "    [theme=dark] .colab-df-convert {\n",
              "      background-color: #3B4455;\n",
              "      fill: #D2E3FC;\n",
              "    }\n",
              "\n",
              "    [theme=dark] .colab-df-convert:hover {\n",
              "      background-color: #434B5C;\n",
              "      box-shadow: 0px 1px 3px 1px rgba(0, 0, 0, 0.15);\n",
              "      filter: drop-shadow(0px 1px 2px rgba(0, 0, 0, 0.3));\n",
              "      fill: #FFFFFF;\n",
              "    }\n",
              "  </style>\n",
              "\n",
              "      <script>\n",
              "        const buttonEl =\n",
              "          document.querySelector('#df-422ce5b7-4b84-4839-b4f5-8dc13b823f9f button.colab-df-convert');\n",
              "        buttonEl.style.display =\n",
              "          google.colab.kernel.accessAllowed ? 'block' : 'none';\n",
              "\n",
              "        async function convertToInteractive(key) {\n",
              "          const element = document.querySelector('#df-422ce5b7-4b84-4839-b4f5-8dc13b823f9f');\n",
              "          const dataTable =\n",
              "            await google.colab.kernel.invokeFunction('convertToInteractive',\n",
              "                                                     [key], {});\n",
              "          if (!dataTable) return;\n",
              "\n",
              "          const docLinkHtml = 'Like what you see? Visit the ' +\n",
              "            '<a target=\"_blank\" href=https://colab.research.google.com/notebooks/data_table.ipynb>data table notebook</a>'\n",
              "            + ' to learn more about interactive tables.';\n",
              "          element.innerHTML = '';\n",
              "          dataTable['output_type'] = 'display_data';\n",
              "          await google.colab.output.renderOutput(dataTable, element);\n",
              "          const docLink = document.createElement('div');\n",
              "          docLink.innerHTML = docLinkHtml;\n",
              "          element.appendChild(docLink);\n",
              "        }\n",
              "      </script>\n",
              "    </div>\n",
              "  </div>\n",
              "  "
            ]
          },
          "metadata": {},
          "execution_count": 146
        }
      ]
    },
    {
      "cell_type": "code",
      "source": [
        "#Gộp 2 dataframe lại\n",
        "frames = [df1, df2]\n",
        "\n",
        "dataframe = pd.concat(frames)\n",
        "print(dataframe.shape)\n",
        "dataframe = dataframe.dropna().reset_index(drop = True)\n",
        "dataframe.head()"
      ],
      "metadata": {
        "colab": {
          "base_uri": "https://localhost:8080/",
          "height": 223
        },
        "id": "ivTBwIdrm1IE",
        "outputId": "62d3d564-81bc-4cbc-b382-03d587403529"
      },
      "execution_count": 147,
      "outputs": [
        {
          "output_type": "stream",
          "name": "stdout",
          "text": [
            "(7380, 3)\n"
          ]
        },
        {
          "output_type": "execute_result",
          "data": {
            "text/plain": [
              "   Unnamed: 0                                             user_a  \\\n",
              "0           0                                        bạn tên gì?   \n",
              "1           1                   Tui tên Nam <eos> Bạn học ở đâu?   \n",
              "2           2         tui học ở TDTU luôn <eos> Bạn học ngành gì   \n",
              "3           3                          Chuyên ngành gì vậy bạn ?   \n",
              "4           4  mình học Quản Trị Kinh Doanh <eos> Bạn là ngườ...   \n",
              "\n",
              "                                              user_b  \n",
              "0             Mình tên Trường <eos> còn bạn tên gì?   \n",
              "1  tui học ở TDTU nè <eos> còn bạn học ở trường n...  \n",
              "2                       mình học Công Nghệ Thông Tin  \n",
              "3  mình học bên Kỹ Thuật Phần Mềm á <eos> còn bạn...  \n",
              "4  Mình là người Đồng tháp <eos> bạn biết Đồng Th...  "
            ],
            "text/html": [
              "\n",
              "  <div id=\"df-adf42b77-f790-4a0f-ae42-e2ec0ceccee4\">\n",
              "    <div class=\"colab-df-container\">\n",
              "      <div>\n",
              "<style scoped>\n",
              "    .dataframe tbody tr th:only-of-type {\n",
              "        vertical-align: middle;\n",
              "    }\n",
              "\n",
              "    .dataframe tbody tr th {\n",
              "        vertical-align: top;\n",
              "    }\n",
              "\n",
              "    .dataframe thead th {\n",
              "        text-align: right;\n",
              "    }\n",
              "</style>\n",
              "<table border=\"1\" class=\"dataframe\">\n",
              "  <thead>\n",
              "    <tr style=\"text-align: right;\">\n",
              "      <th></th>\n",
              "      <th>Unnamed: 0</th>\n",
              "      <th>user_a</th>\n",
              "      <th>user_b</th>\n",
              "    </tr>\n",
              "  </thead>\n",
              "  <tbody>\n",
              "    <tr>\n",
              "      <th>0</th>\n",
              "      <td>0</td>\n",
              "      <td>bạn tên gì?</td>\n",
              "      <td>Mình tên Trường &lt;eos&gt; còn bạn tên gì?</td>\n",
              "    </tr>\n",
              "    <tr>\n",
              "      <th>1</th>\n",
              "      <td>1</td>\n",
              "      <td>Tui tên Nam &lt;eos&gt; Bạn học ở đâu?</td>\n",
              "      <td>tui học ở TDTU nè &lt;eos&gt; còn bạn học ở trường n...</td>\n",
              "    </tr>\n",
              "    <tr>\n",
              "      <th>2</th>\n",
              "      <td>2</td>\n",
              "      <td>tui học ở TDTU luôn &lt;eos&gt; Bạn học ngành gì</td>\n",
              "      <td>mình học Công Nghệ Thông Tin</td>\n",
              "    </tr>\n",
              "    <tr>\n",
              "      <th>3</th>\n",
              "      <td>3</td>\n",
              "      <td>Chuyên ngành gì vậy bạn ?</td>\n",
              "      <td>mình học bên Kỹ Thuật Phần Mềm á &lt;eos&gt; còn bạn...</td>\n",
              "    </tr>\n",
              "    <tr>\n",
              "      <th>4</th>\n",
              "      <td>4</td>\n",
              "      <td>mình học Quản Trị Kinh Doanh &lt;eos&gt; Bạn là ngườ...</td>\n",
              "      <td>Mình là người Đồng tháp &lt;eos&gt; bạn biết Đồng Th...</td>\n",
              "    </tr>\n",
              "  </tbody>\n",
              "</table>\n",
              "</div>\n",
              "      <button class=\"colab-df-convert\" onclick=\"convertToInteractive('df-adf42b77-f790-4a0f-ae42-e2ec0ceccee4')\"\n",
              "              title=\"Convert this dataframe to an interactive table.\"\n",
              "              style=\"display:none;\">\n",
              "        \n",
              "  <svg xmlns=\"http://www.w3.org/2000/svg\" height=\"24px\"viewBox=\"0 0 24 24\"\n",
              "       width=\"24px\">\n",
              "    <path d=\"M0 0h24v24H0V0z\" fill=\"none\"/>\n",
              "    <path d=\"M18.56 5.44l.94 2.06.94-2.06 2.06-.94-2.06-.94-.94-2.06-.94 2.06-2.06.94zm-11 1L8.5 8.5l.94-2.06 2.06-.94-2.06-.94L8.5 2.5l-.94 2.06-2.06.94zm10 10l.94 2.06.94-2.06 2.06-.94-2.06-.94-.94-2.06-.94 2.06-2.06.94z\"/><path d=\"M17.41 7.96l-1.37-1.37c-.4-.4-.92-.59-1.43-.59-.52 0-1.04.2-1.43.59L10.3 9.45l-7.72 7.72c-.78.78-.78 2.05 0 2.83L4 21.41c.39.39.9.59 1.41.59.51 0 1.02-.2 1.41-.59l7.78-7.78 2.81-2.81c.8-.78.8-2.07 0-2.86zM5.41 20L4 18.59l7.72-7.72 1.47 1.35L5.41 20z\"/>\n",
              "  </svg>\n",
              "      </button>\n",
              "      \n",
              "  <style>\n",
              "    .colab-df-container {\n",
              "      display:flex;\n",
              "      flex-wrap:wrap;\n",
              "      gap: 12px;\n",
              "    }\n",
              "\n",
              "    .colab-df-convert {\n",
              "      background-color: #E8F0FE;\n",
              "      border: none;\n",
              "      border-radius: 50%;\n",
              "      cursor: pointer;\n",
              "      display: none;\n",
              "      fill: #1967D2;\n",
              "      height: 32px;\n",
              "      padding: 0 0 0 0;\n",
              "      width: 32px;\n",
              "    }\n",
              "\n",
              "    .colab-df-convert:hover {\n",
              "      background-color: #E2EBFA;\n",
              "      box-shadow: 0px 1px 2px rgba(60, 64, 67, 0.3), 0px 1px 3px 1px rgba(60, 64, 67, 0.15);\n",
              "      fill: #174EA6;\n",
              "    }\n",
              "\n",
              "    [theme=dark] .colab-df-convert {\n",
              "      background-color: #3B4455;\n",
              "      fill: #D2E3FC;\n",
              "    }\n",
              "\n",
              "    [theme=dark] .colab-df-convert:hover {\n",
              "      background-color: #434B5C;\n",
              "      box-shadow: 0px 1px 3px 1px rgba(0, 0, 0, 0.15);\n",
              "      filter: drop-shadow(0px 1px 2px rgba(0, 0, 0, 0.3));\n",
              "      fill: #FFFFFF;\n",
              "    }\n",
              "  </style>\n",
              "\n",
              "      <script>\n",
              "        const buttonEl =\n",
              "          document.querySelector('#df-adf42b77-f790-4a0f-ae42-e2ec0ceccee4 button.colab-df-convert');\n",
              "        buttonEl.style.display =\n",
              "          google.colab.kernel.accessAllowed ? 'block' : 'none';\n",
              "\n",
              "        async function convertToInteractive(key) {\n",
              "          const element = document.querySelector('#df-adf42b77-f790-4a0f-ae42-e2ec0ceccee4');\n",
              "          const dataTable =\n",
              "            await google.colab.kernel.invokeFunction('convertToInteractive',\n",
              "                                                     [key], {});\n",
              "          if (!dataTable) return;\n",
              "\n",
              "          const docLinkHtml = 'Like what you see? Visit the ' +\n",
              "            '<a target=\"_blank\" href=https://colab.research.google.com/notebooks/data_table.ipynb>data table notebook</a>'\n",
              "            + ' to learn more about interactive tables.';\n",
              "          element.innerHTML = '';\n",
              "          dataTable['output_type'] = 'display_data';\n",
              "          await google.colab.output.renderOutput(dataTable, element);\n",
              "          const docLink = document.createElement('div');\n",
              "          docLink.innerHTML = docLinkHtml;\n",
              "          element.appendChild(docLink);\n",
              "        }\n",
              "      </script>\n",
              "    </div>\n",
              "  </div>\n",
              "  "
            ]
          },
          "metadata": {},
          "execution_count": 147
        }
      ]
    },
    {
      "cell_type": "markdown",
      "source": [
        "##**Bleu Score**"
      ],
      "metadata": {
        "id": "1TeH_JvWyMkH"
      }
    },
    {
      "cell_type": "code",
      "source": [
        "#Tập dữ liệu câu hỏi\n",
        "reference = []\n",
        "for sen in dataframe['user_a'].values:\n",
        "  sent = []\n",
        "  #Loại bỏ những ký tự không phải là chữ cái + bỏ in hoa\n",
        "  for word in sen.strip().split(' '):\n",
        "    tmp = ''.join(x for x in word if x.isalpha())\n",
        "    if tmp == '' or tmp == 'eos':\n",
        "      continue\n",
        "    else:\n",
        "      sent.append(tmp.lower())\n",
        "  reference.append(sent)\n",
        "\n",
        "reference[:5]"
      ],
      "metadata": {
        "colab": {
          "base_uri": "https://localhost:8080/"
        },
        "id": "nGvxiPdNx5nF",
        "outputId": "f196fb4b-1e09-4baa-db66-8e463a1d85aa"
      },
      "execution_count": 148,
      "outputs": [
        {
          "output_type": "execute_result",
          "data": {
            "text/plain": [
              "[['bạn', 'tên', 'gì'],\n",
              " ['tui', 'tên', 'nam', 'bạn', 'học', 'ở', 'đâu'],\n",
              " ['tui', 'học', 'ở', 'tdtu', 'luôn', 'bạn', 'học', 'ngành', 'gì'],\n",
              " ['chuyên', 'ngành', 'gì', 'vậy', 'bạn'],\n",
              " ['mình',\n",
              "  'học',\n",
              "  'quản',\n",
              "  'trị',\n",
              "  'kinh',\n",
              "  'doanh',\n",
              "  'bạn',\n",
              "  'là',\n",
              "  'người',\n",
              "  'ở',\n",
              "  'đâu',\n",
              "  'vậy']]"
            ]
          },
          "metadata": {},
          "execution_count": 148
        }
      ]
    },
    {
      "cell_type": "code",
      "source": [
        "#So câu được nhập vào với từng câu trong tập dữ liệu\n",
        "#Câu nào có bleu score cao nhất thì lấy vị trí để lấy câu trả lời tương ứng\n",
        "def bleu_sc(sentence, dic):\n",
        "  candidate = []\n",
        "  #Loại bỏ những ký tự không phải là chữ cái + bỏ in hoa\n",
        "  for word in sentence.strip().split(' '):\n",
        "    tmp = ''.join(x for x in word if x.isalpha())\n",
        "    if tmp == '' or tmp == 'eos':\n",
        "      continue\n",
        "    else:\n",
        "      candidate.append(tmp.lower())\n",
        "\n",
        "  max_score = 0\n",
        "  index = 0\n",
        "  for i in range(len(dic)):\n",
        "    #Bleu score với unigram\n",
        "    score = sentence_bleu([dic[i]], candidate, (1, 0, 0, 0))\n",
        "    if score > max_score:\n",
        "      max_score = score\n",
        "      index = i\n",
        "  #Nếu câu nhập vào không khớp với câu nào trong tập dữ liệu -> trả về -1\n",
        "  if max_score == 0:\n",
        "    return -1\n",
        "  return index"
      ],
      "metadata": {
        "id": "m3Dzw96twxnT"
      },
      "execution_count": 149,
      "outputs": []
    },
    {
      "cell_type": "code",
      "source": [
        "print('----------Bắt đầu cuộc hội thoại----------')\n",
        "warnings.filterwarnings(\"ignore\")\n",
        "while True:\n",
        "  x = input('Bạn:  ')\n",
        "  #Dùng !end để kết thúc cuộc hội thoại\n",
        "  if x == '!end':\n",
        "    print('Bot:  Tạm biệt.')\n",
        "    print('----------Cuộc hội thoại kết thúc----------')\n",
        "    break\n",
        "\n",
        "  index = bleu_sc(x, reference)\n",
        "  if index == -1:\n",
        "    print('Bot:  Không rõ câu nói. Vui lòng nhập lại.')\n",
        "    continue\n",
        "  #In ra câu trả lời\n",
        "  print('Bot: ',dataframe.iloc[index][2])"
      ],
      "metadata": {
        "colab": {
          "base_uri": "https://localhost:8080/"
        },
        "id": "Xuf3AHsBoijh",
        "outputId": "97aa4974-3824-4e73-ba28-445869981f6e"
      },
      "execution_count": 150,
      "outputs": [
        {
          "output_type": "stream",
          "name": "stdout",
          "text": [
            "----------Bắt đầu cuộc hội thoại----------\n",
            "Bạn:  !end\n",
            "Bot:  Tạm biệt.\n",
            "----------Cuộc hội thoại kết thúc----------\n"
          ]
        }
      ]
    },
    {
      "cell_type": "markdown",
      "source": [
        "##**Word2Vec**"
      ],
      "metadata": {
        "id": "xPCVtIViyP4P"
      }
    },
    {
      "cell_type": "code",
      "source": [
        "#Tập dữ liệu câu hỏi\n",
        "reference_2 = []\n",
        "for sen in df1['user_a'].values:\n",
        "  sent = []\n",
        "  #Loại bỏ những ký tự không phải là chữ cái + bỏ in hoa\n",
        "  for word in sen.strip().split(' '):\n",
        "    tmp = ''.join(x for x in word if x.isalpha())\n",
        "    if tmp == '' or tmp == 'eos':\n",
        "      continue\n",
        "    else:\n",
        "      sent.append(tmp.lower())\n",
        "  reference_2.append(sent)\n",
        "\n",
        "reference_2[:5]"
      ],
      "metadata": {
        "colab": {
          "base_uri": "https://localhost:8080/"
        },
        "id": "jBrA1ti7Kq3Q",
        "outputId": "ca1d9b81-11bf-4f3e-ef54-b22b6108703c"
      },
      "execution_count": 151,
      "outputs": [
        {
          "output_type": "execute_result",
          "data": {
            "text/plain": [
              "[['bạn', 'tên', 'gì'],\n",
              " ['tui', 'tên', 'nam', 'bạn', 'học', 'ở', 'đâu'],\n",
              " ['tui', 'học', 'ở', 'tdtu', 'luôn', 'bạn', 'học', 'ngành', 'gì'],\n",
              " ['chuyên', 'ngành', 'gì', 'vậy', 'bạn'],\n",
              " ['mình',\n",
              "  'học',\n",
              "  'quản',\n",
              "  'trị',\n",
              "  'kinh',\n",
              "  'doanh',\n",
              "  'bạn',\n",
              "  'là',\n",
              "  'người',\n",
              "  'ở',\n",
              "  'đâu',\n",
              "  'vậy']]"
            ]
          },
          "metadata": {},
          "execution_count": 151
        }
      ]
    },
    {
      "cell_type": "code",
      "source": [
        "#Tạo và train model Word2Vec\n",
        "model = gensim.models.Word2Vec(min_count = 1, window = 2)\n",
        "model.build_vocab(reference_2, progress_per=10000)\n",
        "model.train(reference_2, total_examples = model.corpus_count, epochs = 100)\n",
        "model['xin']"
      ],
      "metadata": {
        "id": "WW_Eimv5ySuO",
        "colab": {
          "base_uri": "https://localhost:8080/"
        },
        "outputId": "6eceef92-b9b4-480d-a375-ff326e2924af"
      },
      "execution_count": 175,
      "outputs": [
        {
          "output_type": "execute_result",
          "data": {
            "text/plain": [
              "array([-8.82235318e-02,  2.32475787e-01, -9.55088586e-02, -2.36876067e-02,\n",
              "        4.07829173e-02, -5.53072214e-01, -2.48605430e-01,  9.25661981e-01,\n",
              "        2.89369076e-01, -6.02485359e-01, -3.38015296e-02,  2.69898087e-01,\n",
              "        2.76810557e-01,  2.84593314e-01, -4.58531499e-01, -5.28473258e-01,\n",
              "        5.96180916e-01,  1.11258626e-01,  3.22058171e-01,  1.66720077e-01,\n",
              "       -6.68020010e-01, -5.29352129e-01, -2.25632757e-01, -7.61565983e-01,\n",
              "        2.31486097e-01, -7.42462650e-02,  6.89306438e-01, -2.11895153e-01,\n",
              "       -2.55560845e-01,  7.00066864e-01,  7.31419548e-02,  5.93245700e-02,\n",
              "        2.24772200e-01, -2.61346791e-02,  2.19917875e-02,  2.65134554e-02,\n",
              "        4.66888845e-01, -5.19421458e-01,  2.38633156e-01, -1.59119979e-01,\n",
              "       -7.81990945e-01, -4.78848591e-02,  2.98474371e-01,  1.72863364e-01,\n",
              "       -3.85719091e-01,  4.72910792e-01,  5.92039526e-02, -6.86996400e-01,\n",
              "       -1.85761705e-01, -4.14485097e-01,  2.31464684e-01, -5.96558452e-01,\n",
              "        7.16085553e-01, -7.38409638e-01, -7.66289458e-02, -8.59835446e-02,\n",
              "        7.00271800e-02, -1.00006938e+00,  6.14707947e-01, -6.01737797e-01,\n",
              "        1.34141743e-01,  9.56813768e-02, -2.10969031e-01,  7.42999971e-01,\n",
              "       -3.50631088e-01, -6.13187551e-01,  2.93354362e-01,  5.33954024e-01,\n",
              "        2.63829857e-01,  4.18295920e-01, -1.09048866e-01, -7.15785101e-02,\n",
              "        8.93453538e-01, -5.18148020e-02,  3.26444596e-01,  2.28708103e-01,\n",
              "        4.45087487e-03,  4.69497383e-01, -6.21301234e-01,  7.29047433e-02,\n",
              "       -1.73099205e-01,  4.00147736e-01, -6.29827976e-02,  4.75766063e-01,\n",
              "        6.99653476e-02, -2.12404132e-01, -8.28848779e-01, -1.90392196e-01,\n",
              "        1.52541241e-02,  3.78674071e-04, -4.66122538e-01,  1.32454425e-01,\n",
              "        1.02970779e-01, -9.87342522e-02, -5.10408163e-01,  4.83313054e-01,\n",
              "       -1.82938054e-01, -4.12425607e-01,  2.92811751e-01,  5.51926017e-01],\n",
              "      dtype=float32)"
            ]
          },
          "metadata": {},
          "execution_count": 175
        }
      ]
    },
    {
      "cell_type": "code",
      "source": [
        "#Tạo vector cho từng câu hỏi trong tập dữ liệu\n",
        "#Lấy trung bình cộng của từng từ trong câu\n",
        "vector_sentence = []\n",
        "for sen in reference_2:\n",
        "  tmp = [0]\n",
        "  for word in sen:\n",
        "    tmp = tmp + model[word]\n",
        "  tmp = tmp / len(sen)\n",
        "  vector_sentence.append(tmp)\n",
        "\n",
        "vector_sentence[0]"
      ],
      "metadata": {
        "colab": {
          "base_uri": "https://localhost:8080/"
        },
        "id": "ffAs8ibxC_04",
        "outputId": "bebab820-de29-44dd-896f-f9b17614111d"
      },
      "execution_count": 176,
      "outputs": [
        {
          "output_type": "execute_result",
          "data": {
            "text/plain": [
              "array([-0.26762037,  0.16558467,  0.21478659, -0.15977307, -0.14104253,\n",
              "       -0.63594747, -0.15906704,  0.71259815,  0.62531514, -0.40935704,\n",
              "       -0.06065054,  0.47352229,  0.80656171, -0.1331811 ,  0.04563736,\n",
              "       -0.67792513,  0.55659633, -0.10618339,  0.15773895,  0.44286661,\n",
              "       -0.49975656, -0.14356362, -0.2036985 , -0.5082672 ,  0.34068413,\n",
              "       -0.45213164, -0.26768086,  0.08932362, -0.01695632,  0.41597133,\n",
              "       -0.36907131,  0.10193053, -0.26611165, -0.06405945,  0.14998808,\n",
              "        0.48218783,  0.13162559,  0.01226608,  0.62018095,  0.29281131,\n",
              "       -0.58272963,  0.14723849,  0.36305417, -0.11586804, -0.6815889 ,\n",
              "        0.63827721, -0.2191115 , -0.45163247,  0.24087476, -0.05448198,\n",
              "        0.44747763, -0.12249587,  0.0579732 , -0.78407363, -0.29642848,\n",
              "       -0.01154617,  0.33804319, -1.0702889 ,  0.4935158 ,  0.01855656,\n",
              "       -0.31937775,  0.33487896, -0.41732588,  1.10145026, -0.63793457,\n",
              "       -0.48952213, -0.17655443,  0.48484253,  0.17698329,  0.64386372,\n",
              "        0.36963432,  0.17819863,  0.66551998,  0.21433624,  0.72842681,\n",
              "       -0.15824802,  0.28808528,  0.16276623, -0.84542229, -0.08448905,\n",
              "       -0.43874943,  0.29998237, -0.35389743,  0.84543895, -0.30962689,\n",
              "       -0.30904797, -0.68108052,  0.0399292 , -0.47390636,  0.08240941,\n",
              "       -0.49716571,  0.04743666,  0.19629128, -0.42581057,  0.25272955,\n",
              "        0.73696725, -0.08125439, -0.30678617,  0.52663402,  0.14287183])"
            ]
          },
          "metadata": {},
          "execution_count": 176
        }
      ]
    },
    {
      "cell_type": "code",
      "source": [
        "def euclid_dist(sentence, dic):\n",
        "  word_list = []\n",
        "  #Loại bỏ những ký tự không phải là chữ cái + bỏ in hoa\n",
        "  for word in sentence.strip().split(' '):\n",
        "    tmp = ''.join(x for x in word if x.isalpha())\n",
        "    if tmp == '' or tmp == 'eos':\n",
        "      continue\n",
        "    else:\n",
        "      word_list.append(tmp.lower())\n",
        "\n",
        "  vect = [0]\n",
        "  for word in word_list:\n",
        "    vect = vect + model[word]\n",
        "  vect = vect / len(word_list)\n",
        "\n",
        "  max_dist = 0\n",
        "  index = 0\n",
        "  for i in range(len(dic)):\n",
        "    #Euclid\n",
        "    dist = distance.euclidean(dic[i], vect)\n",
        "    if dist > max_dist:\n",
        "      max_dist = dist\n",
        "      index = i\n",
        "  #Nếu câu nhập vào không khớp với câu nào trong tập dữ liệu -> trả về -1\n",
        "  if max_dist == 0:\n",
        "    return -1\n",
        "  \n",
        "  return index"
      ],
      "metadata": {
        "id": "jaTQFBeeEvfv"
      },
      "execution_count": 177,
      "outputs": []
    },
    {
      "cell_type": "code",
      "source": [
        "print('----------Bắt đầu cuộc hội thoại----------')\n",
        "warnings.filterwarnings(\"ignore\")\n",
        "while True:\n",
        "  x = input('Bạn:  ')\n",
        "  #Dùng !end để kết thúc cuộc hội thoại\n",
        "  if x == '!end':\n",
        "    print('Bot:  Tạm biệt.')\n",
        "    print('----------Cuộc hội thoại kết thúc----------')\n",
        "    break\n",
        "\n",
        "  index = euclid_dist(x, vector_sentence)\n",
        "  if index == -1:\n",
        "    print('Bot:  Không rõ câu nói. Vui lòng nhập lại.')\n",
        "    continue\n",
        "  #In ra câu trả lời\n",
        "  print('Bot: ',dataframe.iloc[index][2])"
      ],
      "metadata": {
        "colab": {
          "base_uri": "https://localhost:8080/"
        },
        "id": "qxTH3yrnEm85",
        "outputId": "127958f4-03c8-424f-f4a9-2649e600427d"
      },
      "execution_count": 178,
      "outputs": [
        {
          "output_type": "stream",
          "name": "stdout",
          "text": [
            "----------Bắt đầu cuộc hội thoại----------\n",
            "Bạn:  Xin chào\n",
            "Bot:  okay \n",
            "Bạn:  ĐI chơi không?\n",
            "Bot:  mình thường đá bóng và bơi lội.\n",
            "Bạn:  Hôm qua thi được mấy điểm?\n",
            "Bot:  mình thường đá bóng và bơi lội.\n",
            "Bạn:  Bot ngu\n",
            "Bot:  mình thường đá bóng và bơi lội.\n",
            "Bạn:  !end\n",
            "Bot:  Tạm biệt.\n",
            "----------Cuộc hội thoại kết thúc----------\n"
          ]
        }
      ]
    }
  ]
}